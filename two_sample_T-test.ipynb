{
 "cells": [
  {
   "cell_type": "code",
   "execution_count": 1,
   "id": "041928c9-8b6e-4737-a2b0-5a30dfaf9ca0",
   "metadata": {},
   "outputs": [],
   "source": [
    "import numpy as np \n",
    "from scipy import stats "
   ]
  },
  {
   "cell_type": "code",
   "execution_count": 2,
   "id": "d26a3811-97ff-4635-84f6-df307d76183e",
   "metadata": {},
   "outputs": [],
   "source": [
    "\n",
    "group_A = [85, 88, 90, 92, 87, 85, 89, 91, 86, 88] \n",
    "group_B = [82, 84, 80, 83, 81, 79, 78, 85, 84, 83]  "
   ]
  },
  {
   "cell_type": "code",
   "execution_count": 5,
   "id": "1f5522ac-3898-4ede-9937-0a748d1e9899",
   "metadata": {},
   "outputs": [
    {
     "data": {
      "text/plain": [
       "np.float64(5.829604009507161)"
      ]
     },
     "execution_count": 5,
     "metadata": {},
     "output_type": "execute_result"
    }
   ],
   "source": [
    "\n",
    "t_stats , p_value = stats.ttest_ind(group_A, group_B , equal_var= False)  \n",
    "\n",
    "t_stats"
   ]
  },
  {
   "cell_type": "code",
   "execution_count": 6,
   "id": "e46a0988-8dec-42e6-86aa-e8fae21da8a7",
   "metadata": {},
   "outputs": [],
   "source": [
    "\n",
    "alpha = 0.05"
   ]
  },
  {
   "cell_type": "code",
   "execution_count": 7,
   "id": "8667ffdd-2720-410f-aef1-28c57b0fd2dd",
   "metadata": {},
   "outputs": [
    {
     "name": "stdout",
     "output_type": "stream",
     "text": [
      "I will reject the null hypothesis \n"
     ]
    }
   ],
   "source": [
    "\n",
    "if p_value < alpha:\n",
    "    print(\"I will reject the null hypothesis \")\n",
    "else:\n",
    "    print(\"i will accept the null hypothesis\" )"
   ]
  },
  {
   "cell_type": "code",
   "execution_count": null,
   "id": "91f6a707-63db-41c2-aaee-14de9b5dbdc1",
   "metadata": {},
   "outputs": [],
   "source": []
  }
 ],
 "metadata": {
  "kernelspec": {
   "display_name": "Python 3 (ipykernel)",
   "language": "python",
   "name": "python3"
  },
  "language_info": {
   "codemirror_mode": {
    "name": "ipython",
    "version": 3
   },
   "file_extension": ".py",
   "mimetype": "text/x-python",
   "name": "python",
   "nbconvert_exporter": "python",
   "pygments_lexer": "ipython3",
   "version": "3.13.1"
  }
 },
 "nbformat": 4,
 "nbformat_minor": 5
}
