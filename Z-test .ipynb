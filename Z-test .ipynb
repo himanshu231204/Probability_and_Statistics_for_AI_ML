{
 "cells": [
  {
   "cell_type": "code",
   "execution_count": 1,
   "id": "ec0819b3-8907-4bb3-b8f9-b46e35ea9559",
   "metadata": {},
   "outputs": [],
   "source": [
    "import numpy as np \n",
    "from scipy.stats import norm"
   ]
  },
  {
   "cell_type": "code",
   "execution_count": 10,
   "id": "3ae282c3-952e-4858-a4d6-362d54736ce2",
   "metadata": {},
   "outputs": [],
   "source": [
    "sample = [172, 174, 168, 169, 171, 173, 175, 170, 169, 172] #n=10 just for example\n",
    "population_mean = 170\n",
    "population_std = 3\n",
    "samp_mean = np.mean(sample)\n",
    "n = len(sample)"
   ]
  },
  {
   "cell_type": "code",
   "execution_count": 11,
   "id": "c6a4950e-feba-4df5-998d-149f35a3aa65",
   "metadata": {},
   "outputs": [
    {
     "data": {
      "text/plain": [
       "np.float64(1.3703203194063098)"
      ]
     },
     "execution_count": 11,
     "metadata": {},
     "output_type": "execute_result"
    }
   ],
   "source": [
    "z_score = (samp_mean - population_mean) / (population_std / np.sqrt(n))\n",
    "z_score"
   ]
  },
  {
   "cell_type": "code",
   "execution_count": 12,
   "id": "40d75fff-c54d-43b5-b94c-638dcc761d8c",
   "metadata": {},
   "outputs": [],
   "source": [
    "# p-value from Z score (2-tailed)\n",
    "p_value = 2 * (1 - norm.cdf(abs(z_score)))"
   ]
  },
  {
   "cell_type": "code",
   "execution_count": 13,
   "id": "75159783-7c64-4575-a975-efa00eb250a1",
   "metadata": {},
   "outputs": [
    {
     "data": {
      "text/plain": [
       "np.float64(0.17058693287143756)"
      ]
     },
     "execution_count": 13,
     "metadata": {},
     "output_type": "execute_result"
    }
   ],
   "source": [
    "p_value"
   ]
  },
  {
   "cell_type": "code",
   "execution_count": 14,
   "id": "9df50a4e-1517-4fb9-be47-7d91a44ee656",
   "metadata": {},
   "outputs": [
    {
     "name": "stdout",
     "output_type": "stream",
     "text": [
      "i will accept the null hypothesis \n"
     ]
    }
   ],
   "source": [
    "\n",
    "alpha = 0.05\n",
    "\n",
    "if p_value < alpha:\n",
    "    print(\"I will reject the null hypothesis\")\n",
    "else:\n",
    "    print(\"i will accept the null hypothesis \")"
   ]
  },
  {
   "cell_type": "markdown",
   "id": "7b5ba5b9-150d-4e21-84fd-7fa5b5d6bb1e",
   "metadata": {},
   "source": [
    "📌 Quick Recap Points for Revision:\n",
    "✅ Use when sample is large & you're comparing proportions\n",
    "\n",
    "✅ Null hypothesis: Sample proportion = Population proportion\n",
    "\n",
    "✅ Use proportions_ztest() or manual formula\n",
    "\n",
    "✅ Check p-value < 0.05 for significance\n",
    "\n",
    "✅ Works well in A/B testing, marketing conversion checks, etc."
   ]
  },
  {
   "cell_type": "code",
   "execution_count": null,
   "id": "ec3f198c-5279-4da1-84ef-3c5a194f4b43",
   "metadata": {},
   "outputs": [],
   "source": []
  }
 ],
 "metadata": {
  "kernelspec": {
   "display_name": "Python 3 (ipykernel)",
   "language": "python",
   "name": "python3"
  },
  "language_info": {
   "codemirror_mode": {
    "name": "ipython",
    "version": 3
   },
   "file_extension": ".py",
   "mimetype": "text/x-python",
   "name": "python",
   "nbconvert_exporter": "python",
   "pygments_lexer": "ipython3",
   "version": "3.13.1"
  }
 },
 "nbformat": 4,
 "nbformat_minor": 5
}
